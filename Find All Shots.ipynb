{
 "cells": [
  {
   "cell_type": "code",
   "execution_count": 111,
   "id": "3b211153",
   "metadata": {},
   "outputs": [
    {
     "name": "stdout",
     "output_type": "stream",
     "text": [
      "The autoreload extension is already loaded. To reload it, use:\n",
      "  %reload_ext autoreload\n"
     ]
    }
   ],
   "source": [
    "%load_ext autoreload\n",
    "%autoreload 2\n",
    "\n",
    "import json\n",
    "import numpy as np\n",
    "import pandas as pd\n",
    "\n",
    "import matplotlib as mpl\n",
    "import matplotlib.pyplot as plt\n",
    "import mpl_toolkits.mplot3d.art3d as art3d\n",
    "\n",
    "from parsing import make_position_dataframe, augment_data\n"
   ]
  },
  {
   "cell_type": "code",
   "execution_count": 2,
   "id": "b4e10d7b",
   "metadata": {},
   "outputs": [],
   "source": [
    "with open('0021500495.json', 'r') as json_file:\n",
    "    event_data = json.load(json_file)"
   ]
  },
  {
   "cell_type": "code",
   "execution_count": 6,
   "id": "72b8f39a",
   "metadata": {},
   "outputs": [],
   "source": [
    "event_ids = []\n",
    "for event in event_data['events']:\n",
    "    event_ids.append(event['eventId'])"
   ]
  },
  {
   "cell_type": "code",
   "execution_count": 8,
   "id": "f6985cbe",
   "metadata": {},
   "outputs": [],
   "source": []
  },
  {
   "cell_type": "code",
   "execution_count": 103,
   "id": "73457a16",
   "metadata": {},
   "outputs": [
    {
     "name": "stdout",
     "output_type": "stream",
     "text": [
      "Ball never accelerated towards rim! 155\n",
      "Assuming event started late. Shot at 12\n",
      "Ball never accelerated towards rim! 236\n",
      "Assuming event started late. Shot at 88\n",
      "Ball never accelerated towards rim! 367\n",
      "Assuming event started late. Shot at 19\n",
      "Ball never accelerated towards rim! 379\n",
      "Assuming event started late. Shot at 8\n",
      "Ball never accelerated towards rim! 401\n",
      "Assuming event started late. Shot at 7\n"
     ]
    }
   ],
   "source": [
    "max_observed_timestep = -1\n",
    "\n",
    "shot_df = pd.DataFrame()\n",
    "for event_id in event_ids:\n",
    "\n",
    "    ball_data = make_position_dataframe(event_data, -1, -1, event_id)\n",
    "    \n",
    "    if len(ball_data)==0:\n",
    "        #print(f'No data {event_id}')\n",
    "        continue\n",
    "        \n",
    "    min_data_timestep = ball_data['timestamp'].values.min()\n",
    "    max_data_timestep = ball_data['timestamp'].values.max()\n",
    "    \n",
    "    if max_data_timestep <= max_observed_timestep:\n",
    "        #print(f'Duplicate event {event_id}, skipping')\n",
    "        continue\n",
    "    #elif min_data_timestep <= max_observed_timestep:\n",
    "        #print(f'WARNING: partially duplicate data {event_id}')\n",
    "    \n",
    "    ball_data = augement_data(ball_data)\n",
    "\n",
    "    \n",
    "    for shot in rim_1_shots:\n",
    "        rim_accels = np.where(ball_data['go_to_rim_1'].values==1)[0]\n",
    "        \n",
    "        if len(rim_accels[rim_accels<shot])==0:\n",
    "            print(f'Ball never accelerated towards rim! {event_id}')\n",
    "            print(f'Assuming event started late. Shot at {shot}')\n",
    "            rim_accels=np.append([0],rim_accels)\n",
    "        \n",
    "        shot_index = max(rim_accels[rim_accels<shot])\n",
    "        \n",
    "        shot_time = ball_data['timestamp'].values[shot_index]\n",
    "        \n",
    "        if shot_time > max_observed_timestep:\n",
    "            ball_row = ball_data.iloc[shot_index]\n",
    "            \n",
    "            shot_row = ball_row[['eventId', 'qtr', 'qtr_rem', 'timestamp','x','y','z']].append(pd.Series({'rim':1}))\n",
    "            shot_df = shot_df.append(shot_row, ignore_index=True)\n",
    "        \n",
    "    for shot in rim_2_shots:\n",
    "        rim_accels = np.where(ball_data['go_to_rim_2'].values==1)[0]\n",
    "        \n",
    "        if len(rim_accels[rim_accels<shot])==0:\n",
    "            print(f'Ball never accelerated towards rim! {event_id}')\n",
    "            print(f'Assuming event started late. Shot at {shot}')\n",
    "            rim_accels=np.append([0],rim_accels)\n",
    "        \n",
    "        shot_index = max(rim_accels[rim_accels<shot])\n",
    "        \n",
    "        shot_time = ball_data['timestamp'].values[shot_index]\n",
    "        \n",
    "        if shot_time > max_observed_timestep:\n",
    "            ball_row = ball_data.iloc[shot_index]\n",
    "            \n",
    "            shot_row = ball_row[['eventId', 'qtr', 'qtr_rem', 'timestamp','x','y','z']].append(pd.Series({'rim':2}))\n",
    "            shot_df = shot_df.append(shot_row, ignore_index=True)\n",
    "        \n",
    "        \n",
    "        \n",
    "    max_observed_timestep = max_data_timestep\n",
    "        \n",
    "    \n",
    "    \n",
    "    \n"
   ]
  },
  {
   "cell_type": "code",
   "execution_count": 143,
   "id": "a22f2177",
   "metadata": {},
   "outputs": [
    {
     "data": {
      "text/html": [
       "<div>\n",
       "<style scoped>\n",
       "    .dataframe tbody tr th:only-of-type {\n",
       "        vertical-align: middle;\n",
       "    }\n",
       "\n",
       "    .dataframe tbody tr th {\n",
       "        vertical-align: top;\n",
       "    }\n",
       "\n",
       "    .dataframe thead th {\n",
       "        text-align: right;\n",
       "    }\n",
       "</style>\n",
       "<table border=\"1\" class=\"dataframe\">\n",
       "  <thead>\n",
       "    <tr style=\"text-align: right;\">\n",
       "      <th></th>\n",
       "      <th>eventId</th>\n",
       "      <th>qtr</th>\n",
       "      <th>qtr_rem</th>\n",
       "      <th>timestamp</th>\n",
       "      <th>x</th>\n",
       "      <th>y</th>\n",
       "      <th>z</th>\n",
       "      <th>rim</th>\n",
       "    </tr>\n",
       "  </thead>\n",
       "  <tbody>\n",
       "    <tr>\n",
       "      <th>0</th>\n",
       "      <td>2</td>\n",
       "      <td>1.0</td>\n",
       "      <td>704.39</td>\n",
       "      <td>1.451765e+12</td>\n",
       "      <td>88.46428</td>\n",
       "      <td>25.26160</td>\n",
       "      <td>9.98846</td>\n",
       "      <td>2.0</td>\n",
       "    </tr>\n",
       "    <tr>\n",
       "      <th>1</th>\n",
       "      <td>4</td>\n",
       "      <td>1.0</td>\n",
       "      <td>677.06</td>\n",
       "      <td>1.451765e+12</td>\n",
       "      <td>68.64560</td>\n",
       "      <td>25.26228</td>\n",
       "      <td>2.63022</td>\n",
       "      <td>2.0</td>\n",
       "    </tr>\n",
       "    <tr>\n",
       "      <th>2</th>\n",
       "      <td>9</td>\n",
       "      <td>1.0</td>\n",
       "      <td>647.19</td>\n",
       "      <td>1.451766e+12</td>\n",
       "      <td>85.62582</td>\n",
       "      <td>34.13450</td>\n",
       "      <td>8.94071</td>\n",
       "      <td>2.0</td>\n",
       "    </tr>\n",
       "    <tr>\n",
       "      <th>3</th>\n",
       "      <td>14</td>\n",
       "      <td>1.0</td>\n",
       "      <td>605.75</td>\n",
       "      <td>1.451766e+12</td>\n",
       "      <td>12.84982</td>\n",
       "      <td>17.41815</td>\n",
       "      <td>13.81932</td>\n",
       "      <td>1.0</td>\n",
       "    </tr>\n",
       "    <tr>\n",
       "      <th>4</th>\n",
       "      <td>19</td>\n",
       "      <td>1.0</td>\n",
       "      <td>584.39</td>\n",
       "      <td>1.451766e+12</td>\n",
       "      <td>16.00920</td>\n",
       "      <td>11.87653</td>\n",
       "      <td>10.57158</td>\n",
       "      <td>1.0</td>\n",
       "    </tr>\n",
       "    <tr>\n",
       "      <th>...</th>\n",
       "      <td>...</td>\n",
       "      <td>...</td>\n",
       "      <td>...</td>\n",
       "      <td>...</td>\n",
       "      <td>...</td>\n",
       "      <td>...</td>\n",
       "      <td>...</td>\n",
       "      <td>...</td>\n",
       "    </tr>\n",
       "    <tr>\n",
       "      <th>155</th>\n",
       "      <td>565</td>\n",
       "      <td>4.0</td>\n",
       "      <td>113.27</td>\n",
       "      <td>1.451773e+12</td>\n",
       "      <td>87.59433</td>\n",
       "      <td>21.46153</td>\n",
       "      <td>6.93088</td>\n",
       "      <td>2.0</td>\n",
       "    </tr>\n",
       "    <tr>\n",
       "      <th>156</th>\n",
       "      <td>567</td>\n",
       "      <td>4.0</td>\n",
       "      <td>92.36</td>\n",
       "      <td>1.451773e+12</td>\n",
       "      <td>14.87249</td>\n",
       "      <td>46.80984</td>\n",
       "      <td>6.36406</td>\n",
       "      <td>1.0</td>\n",
       "    </tr>\n",
       "    <tr>\n",
       "      <th>157</th>\n",
       "      <td>571</td>\n",
       "      <td>4.0</td>\n",
       "      <td>61.80</td>\n",
       "      <td>1.451773e+12</td>\n",
       "      <td>5.27410</td>\n",
       "      <td>25.97007</td>\n",
       "      <td>10.41159</td>\n",
       "      <td>1.0</td>\n",
       "    </tr>\n",
       "    <tr>\n",
       "      <th>158</th>\n",
       "      <td>578</td>\n",
       "      <td>4.0</td>\n",
       "      <td>39.00</td>\n",
       "      <td>1.451773e+12</td>\n",
       "      <td>88.69114</td>\n",
       "      <td>25.30645</td>\n",
       "      <td>10.05274</td>\n",
       "      <td>2.0</td>\n",
       "    </tr>\n",
       "    <tr>\n",
       "      <th>159</th>\n",
       "      <td>585</td>\n",
       "      <td>4.0</td>\n",
       "      <td>24.78</td>\n",
       "      <td>1.451774e+12</td>\n",
       "      <td>88.80314</td>\n",
       "      <td>24.26808</td>\n",
       "      <td>10.47536</td>\n",
       "      <td>2.0</td>\n",
       "    </tr>\n",
       "  </tbody>\n",
       "</table>\n",
       "<p>160 rows × 8 columns</p>\n",
       "</div>"
      ],
      "text/plain": [
       "    eventId  qtr  qtr_rem     timestamp         x         y         z  rim\n",
       "0         2  1.0   704.39  1.451765e+12  88.46428  25.26160   9.98846  2.0\n",
       "1         4  1.0   677.06  1.451765e+12  68.64560  25.26228   2.63022  2.0\n",
       "2         9  1.0   647.19  1.451766e+12  85.62582  34.13450   8.94071  2.0\n",
       "3        14  1.0   605.75  1.451766e+12  12.84982  17.41815  13.81932  1.0\n",
       "4        19  1.0   584.39  1.451766e+12  16.00920  11.87653  10.57158  1.0\n",
       "..      ...  ...      ...           ...       ...       ...       ...  ...\n",
       "155     565  4.0   113.27  1.451773e+12  87.59433  21.46153   6.93088  2.0\n",
       "156     567  4.0    92.36  1.451773e+12  14.87249  46.80984   6.36406  1.0\n",
       "157     571  4.0    61.80  1.451773e+12   5.27410  25.97007  10.41159  1.0\n",
       "158     578  4.0    39.00  1.451773e+12  88.69114  25.30645  10.05274  2.0\n",
       "159     585  4.0    24.78  1.451774e+12  88.80314  24.26808  10.47536  2.0\n",
       "\n",
       "[160 rows x 8 columns]"
      ]
     },
     "execution_count": 143,
     "metadata": {},
     "output_type": "execute_result"
    }
   ],
   "source": [
    "shot_df"
   ]
  },
  {
   "cell_type": "code",
   "execution_count": 114,
   "id": "75586461",
   "metadata": {},
   "outputs": [],
   "source": [
    "block_event = make_position_dataframe(event_data, -1, -1, 12)\n",
    "block_event = augment_data(block_event)"
   ]
  },
  {
   "cell_type": "code",
   "execution_count": 151,
   "id": "414bc832",
   "metadata": {},
   "outputs": [
    {
     "data": {
      "text/plain": [
       "Text(0.5, 1.0, 'Distance to rim for block at t~50')"
      ]
     },
     "execution_count": 151,
     "metadata": {},
     "output_type": "execute_result"
    },
    {
     "data": {
      "image/png": "[encoded data removed]",
      "text/plain": [
       "<Figure size 432x288 with 1 Axes>"
      ]
     },
     "metadata": {
      "needs_background": "light"
     },
     "output_type": "display_data"
    }
   ],
   "source": [
    "plt.plot(range(len(block_event)), block_event['dist_to_rim_2'])\n",
    "plt.title('Distance to rim for block at t~50')"
   ]
  },
  {
   "cell_type": "code",
   "execution_count": 150,
   "id": "823de1f4",
   "metadata": {},
   "outputs": [
    {
     "data": {
      "text/plain": [
       "Text(0.5, 1.0, 'Acceleration/Velocity towards rim for block at ~t=50')"
      ]
     },
     "execution_count": 150,
     "metadata": {},
     "output_type": "execute_result"
    },
    {
     "data": {
      "image/png": "[encoded data removed]",
      "text/plain": [
       "<Figure size 432x288 with 1 Axes>"
      ]
     },
     "metadata": {
      "needs_background": "light"
     },
     "output_type": "display_data"
    }
   ],
   "source": [
    "plt.plot(range(len(block_event)), block_event['avg_vel_rim_2'])\n",
    "plt.plot(range(len(block_event)), block_event['avg_acc_rim_2']*10)\n",
    "plt.title(\"Acceleration and Velocity towards rim for block at ~t=50\")"
   ]
  },
  {
   "cell_type": "code",
   "execution_count": 152,
   "id": "ae7c7fba",
   "metadata": {},
   "outputs": [],
   "source": []
  },
  {
   "cell_type": "code",
   "execution_count": null,
   "id": "e6afbd70",
   "metadata": {},
   "outputs": [],
   "source": []
  }
 ],
 "metadata": {
  "kernelspec": {
   "display_name": "Python 3 (ipykernel)",
   "language": "python",
   "name": "python3"
  },
  "language_info": {
   "codemirror_mode": {
    "name": "ipython",
    "version": 3
   },
   "file_extension": ".py",
   "mimetype": "text/x-python",
   "name": "python",
   "nbconvert_exporter": "python",
   "pygments_lexer": "ipython3",
   "version": "3.7.11"
  }
 },
 "nbformat": 4,
 "nbformat_minor": 5
}
